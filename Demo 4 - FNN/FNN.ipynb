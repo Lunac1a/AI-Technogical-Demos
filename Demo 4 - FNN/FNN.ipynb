{
 "cells": [
  {
   "metadata": {},
   "cell_type": "markdown",
   "source": "Link: https://drive.google.com/drive/folders/1zKTc2r2Dp-cOVKOQ0K0h3Ug2AbgIKA9a?usp=drive_link",
   "id": "ef99110f0703037b"
  },
  {
   "metadata": {},
   "cell_type": "markdown",
   "source": "# Diabetes Classification with FNN",
   "id": "e339810365995fed"
  },
  {
   "metadata": {},
   "cell_type": "markdown",
   "source": [
    "In this notebook, we use the **Diabetes Dataset** to build a simple feedforward neural network (FNN)\n",
    "for a binary classification task: predicting whether a patient has diabetes or not."
   ],
   "id": "c0259c711b536710"
  },
  {
   "metadata": {},
   "cell_type": "markdown",
   "source": [
    "## Step 1: Import Libraries\n",
    "We will use:\n",
    "- **Pandas / Numpy** for data handling\n",
    "- **Seaborn / Matplotlib** for visualization\n",
    "- **Scikit-learn** for data splitting and normalization\n",
    "- **TensorFlow Keras** to build and train the neural network"
   ],
   "id": "888f2208d7569a58"
  },
  {
   "cell_type": "code",
   "id": "initial_id",
   "metadata": {
    "collapsed": true
   },
   "source": [
    "import pandas as pd\n",
    "from sklearn.model_selection import train_test_split\n",
    "from sklearn.preprocessing import StandardScaler\n",
    "from tensorflow.keras.models import Sequential\n",
    "from tensorflow.keras.layers import Dense\n",
    "from tensorflow.keras.optimizers import Adam"
   ],
   "outputs": [],
   "execution_count": null
  },
  {
   "metadata": {},
   "cell_type": "markdown",
   "source": [
    "## Step 2: Load Dataset\n",
    "The dataset contains 768 samples with 8 input features (such as glucose, blood pressure, BMI, etc.)\n",
    "and one target column `Outcome` (0 = No Diabetes, 1 = Diabetes)."
   ],
   "id": "b95572f2a04f0a27"
  },
  {
   "metadata": {},
   "cell_type": "code",
   "source": [
    "data = pd.read_csv(\"./data/diabetes.csv\")\n",
    "data.head()"
   ],
   "id": "1a8b1746eab3f7d3",
   "outputs": [],
   "execution_count": null
  },
  {
   "metadata": {},
   "cell_type": "markdown",
   "source": [
    "## Step 3: Features and Labels\n",
    "We use all columns except `Outcome` as features (X).\n",
    "The target label (y) is the `Outcome` column."
   ],
   "id": "f31d81245440c447"
  },
  {
   "metadata": {},
   "cell_type": "code",
   "source": [
    "X = data.drop(\"Outcome\", axis=1)\n",
    "y = data[\"Outcome\"]"
   ],
   "id": "53d1e8399b7540",
   "outputs": [],
   "execution_count": null
  },
  {
   "metadata": {},
   "cell_type": "markdown",
   "source": [
    "## Step 4: Train Test Split\n",
    "We split the dataset into 80% training and 20% testing.\n",
    "Stratification ensures both sets have the same proportion of classes."
   ],
   "id": "ddd6f19c38ec7de0"
  },
  {
   "metadata": {},
   "cell_type": "code",
   "source": "X_train, X_test, y_train, y_test = train_test_split(X, y, test_size=0.2, random_state=42)",
   "id": "cc70e954fb40e400",
   "outputs": [],
   "execution_count": null
  },
  {
   "metadata": {},
   "cell_type": "markdown",
   "source": "Then pick up the last two data as the prediction data",
   "id": "15b1228c0146130d"
  },
  {
   "metadata": {},
   "cell_type": "code",
   "source": [
    "X_pred = X_test[:2]\n",
    "y_pred = y_test[:2]\n",
    "\n",
    "X_test = X_test[:-2]\n",
    "y_test = y_test[:-2]"
   ],
   "id": "3bc1ae0c7e3352b2",
   "outputs": [],
   "execution_count": null
  },
  {
   "metadata": {},
   "cell_type": "markdown",
   "source": [
    "## Step 5: Scaling\n",
    "Since features have very different ranges (e.g., glucose vs pregnancies),\n",
    "we apply standardization to normalize the input values.\n"
   ],
   "id": "ea4c6c19d9cc5767"
  },
  {
   "metadata": {},
   "cell_type": "code",
   "source": [
    "scaler = StandardScaler()\n",
    "X_train = scaler.fit_transform(X_train)\n",
    "X_test = scaler.transform(X_test)"
   ],
   "id": "b17aa2a9bbe26a1b",
   "outputs": [],
   "execution_count": null
  },
  {
   "metadata": {},
   "cell_type": "markdown",
   "source": [
    "## Step 6: Build Feedforward Neural Network\n",
    "- Input layer: 8 features\n",
    "- Hidden layer 1: 64 neurons, ReLU activation\n",
    "- Hidden layer 2: 32 neurons, ReLU activation\n",
    "- Output layer: 1 neuron, Sigmoid activation (probability of diabetes)"
   ],
   "id": "93da64168585f5f9"
  },
  {
   "metadata": {},
   "cell_type": "code",
   "source": [
    "model = Sequential([\n",
    "    Dense(64, input_dim=X_train.shape[1], activation=\"relu\"),\n",
    "    Dense(32, activation=\"relu\"),\n",
    "    Dense(1, activation=\"sigmoid\")\n",
    "])\n",
    "\n",
    "model.compile(\n",
    "    optimizer=Adam(learning_rate=0.001),\n",
    "    loss=\"binary_crossentropy\",\n",
    "    metrics=[\"accuracy\"]\n",
    ")\n",
    "\n",
    "model.summary()"
   ],
   "id": "66b14ddc67ca5dca",
   "outputs": [],
   "execution_count": null
  },
  {
   "metadata": {},
   "cell_type": "markdown",
   "source": [
    "## Step 7: Train the Model\n",
    "We train for 50 epochs with a batch size of 16.\n",
    "10% of the training data is used as a validation set."
   ],
   "id": "6a65ba0d491276a3"
  },
  {
   "metadata": {},
   "cell_type": "code",
   "source": [
    "history = model.fit(\n",
    "    X_train, y_train,\n",
    "    validation_split=0.1,\n",
    "    epochs=30,\n",
    "    batch_size=16,\n",
    "    verbose=0\n",
    ")"
   ],
   "id": "c0bd66648cfaf738",
   "outputs": [],
   "execution_count": null
  },
  {
   "metadata": {},
   "cell_type": "markdown",
   "source": [
    "## Step 8: Evaluate on Test Data\n",
    "Finally, we evaluate the trained model on the test set."
   ],
   "id": "c7c226bf7ddaabe"
  },
  {
   "metadata": {},
   "cell_type": "code",
   "source": [
    "loss, acc = model.evaluate(X_test, y_test, verbose=0)\n",
    "print(f\"Test Accuracy: {acc:.4f}\")"
   ],
   "id": "b7f56925fb41ab67",
   "outputs": [],
   "execution_count": null
  },
  {
   "metadata": {},
   "cell_type": "code",
   "source": [
    "predictions = model.predict(X_pred)\n",
    "\n",
    "# reshape for neat printing\n",
    "probs = predictions.reshape(-1)\n",
    "classes = (predictions > 0.5).astype(int).reshape(-1)\n",
    "true_labels = y_pred.to_numpy().reshape(-1)\n",
    "\n",
    "# build a comparison table\n",
    "results = pd.DataFrame({\n",
    "    \"True Label\": true_labels,\n",
    "    \"Predicted Probability\": probs,\n",
    "    \"Predicted Class\": classes\n",
    "})\n",
    "\n",
    "print(results)"
   ],
   "id": "3a01f11f819085bf",
   "outputs": [],
   "execution_count": null
  }
 ],
 "metadata": {
  "kernelspec": {
   "display_name": "Python 3",
   "language": "python",
   "name": "python3"
  },
  "language_info": {
   "codemirror_mode": {
    "name": "ipython",
    "version": 2
   },
   "file_extension": ".py",
   "mimetype": "text/x-python",
   "name": "python",
   "nbconvert_exporter": "python",
   "pygments_lexer": "ipython2",
   "version": "2.7.6"
  }
 },
 "nbformat": 4,
 "nbformat_minor": 5
}
