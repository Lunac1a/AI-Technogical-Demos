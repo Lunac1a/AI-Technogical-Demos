{
 "cells": [
  {
   "metadata": {},
   "cell_type": "markdown",
   "source": [
    "# Sentiment Analysis using Logistic Regression\n",
    "Link: https://drive.google.com/drive/folders/1zKTc2r2Dp-cOVKOQ0K0h3Ug2AbgIKA9a?usp=drive_link"
   ],
   "id": "265ccbdc52e165f2"
  },
  {
   "metadata": {},
   "cell_type": "markdown",
   "source": [
    "## 1. Introduction\n",
    "In this demo, we will perform **Sentiment Analysis** — a fundamental NLP task that determines whether a given text expresses a positive or negative opinion.\n",
    "We will use:\n",
    "- **Dataset:** NLTK `movie_reviews` (2000 movie reviews)\n",
    "- **Algorithm:** Logistic Regression\n",
    "- **Feature Representation:** TF-IDF (Term Frequency–Inverse Document Frequency)"
   ],
   "id": "41a3152b435c8aea"
  },
  {
   "metadata": {},
   "cell_type": "markdown",
   "source": "## 2. Import Libraries",
   "id": "ca0f39f87e429ccf"
  },
  {
   "cell_type": "code",
   "id": "initial_id",
   "metadata": {
    "collapsed": true,
    "ExecuteTime": {
     "end_time": "2025-10-08T03:47:31.360976Z",
     "start_time": "2025-10-08T03:47:30.835291Z"
    }
   },
   "source": [
    "import nltk\n",
    "import random\n",
    "import pandas as pd\n",
    "import numpy as np\n",
    "from nltk.corpus import movie_reviews\n",
    "from sklearn.model_selection import train_test_split\n",
    "from sklearn.feature_extraction.text import TfidfVectorizer\n",
    "from sklearn.linear_model import LogisticRegression\n",
    "from sklearn.metrics import accuracy_score, classification_report, confusion_matrix\n",
    "import seaborn as sns\n",
    "import matplotlib.pyplot as plt"
   ],
   "outputs": [],
   "execution_count": 1
  },
  {
   "metadata": {
    "ExecuteTime": {
     "end_time": "2025-10-08T03:58:43.966879Z",
     "start_time": "2025-10-08T03:58:43.961358Z"
    }
   },
   "cell_type": "code",
   "source": [
    "nltk.data.path.append(\"./data\")\n",
    "print(len(movie_reviews.fileids()))"
   ],
   "id": "5cdb3e9f5cd82d1b",
   "outputs": [
    {
     "name": "stdout",
     "output_type": "stream",
     "text": [
      "2000\n"
     ]
    }
   ],
   "execution_count": 14
  },
  {
   "metadata": {},
   "cell_type": "markdown",
   "source": [
    "## 3. Load and Inspect Dataset\n",
    "We use the **NLTK movie_reviews corpus**, which contains 2,000 labeled movie reviews.\n",
    "Each review is labeled as either `\"pos\"` (positive) or `\"neg\"` (negative).\n",
    "We will convert them into a Pandas DataFrame for easier handling.\n"
   ],
   "id": "f0c11d5b3485f997"
  },
  {
   "metadata": {
    "ExecuteTime": {
     "end_time": "2025-10-08T04:01:15.217192Z",
     "start_time": "2025-10-08T04:01:15.086747Z"
    }
   },
   "cell_type": "code",
   "source": [
    "# Load movie reviews and labels\n",
    "texts = [movie_reviews.raw(fileid) for fileid in movie_reviews.fileids()]\n",
    "labels = [movie_reviews.categories(fileid)[0] for fileid in movie_reviews.fileids()]\n",
    "\n",
    "# Create a dataframe\n",
    "df = pd.DataFrame({'review': texts, 'label': labels})\n",
    "print(\"Dataset size:\", len(df))\n",
    "df.head()"
   ],
   "id": "40b17324cde60324",
   "outputs": [
    {
     "name": "stdout",
     "output_type": "stream",
     "text": [
      "Dataset size: 2000\n"
     ]
    },
    {
     "data": {
      "text/plain": [
       "                                              review label\n",
       "0  plot : two teen couples go to a church party ,...   neg\n",
       "1  the happy bastard's quick movie review \\ndamn ...   neg\n",
       "2  it is movies like these that make a jaded movi...   neg\n",
       "3   \" quest for camelot \" is warner bros . ' firs...   neg\n",
       "4  synopsis : a mentally unstable man undergoing ...   neg"
      ],
      "text/html": [
       "<div>\n",
       "<style scoped>\n",
       "    .dataframe tbody tr th:only-of-type {\n",
       "        vertical-align: middle;\n",
       "    }\n",
       "\n",
       "    .dataframe tbody tr th {\n",
       "        vertical-align: top;\n",
       "    }\n",
       "\n",
       "    .dataframe thead th {\n",
       "        text-align: right;\n",
       "    }\n",
       "</style>\n",
       "<table border=\"1\" class=\"dataframe\">\n",
       "  <thead>\n",
       "    <tr style=\"text-align: right;\">\n",
       "      <th></th>\n",
       "      <th>review</th>\n",
       "      <th>label</th>\n",
       "    </tr>\n",
       "  </thead>\n",
       "  <tbody>\n",
       "    <tr>\n",
       "      <th>0</th>\n",
       "      <td>plot : two teen couples go to a church party ,...</td>\n",
       "      <td>neg</td>\n",
       "    </tr>\n",
       "    <tr>\n",
       "      <th>1</th>\n",
       "      <td>the happy bastard's quick movie review \\ndamn ...</td>\n",
       "      <td>neg</td>\n",
       "    </tr>\n",
       "    <tr>\n",
       "      <th>2</th>\n",
       "      <td>it is movies like these that make a jaded movi...</td>\n",
       "      <td>neg</td>\n",
       "    </tr>\n",
       "    <tr>\n",
       "      <th>3</th>\n",
       "      <td>\" quest for camelot \" is warner bros . ' firs...</td>\n",
       "      <td>neg</td>\n",
       "    </tr>\n",
       "    <tr>\n",
       "      <th>4</th>\n",
       "      <td>synopsis : a mentally unstable man undergoing ...</td>\n",
       "      <td>neg</td>\n",
       "    </tr>\n",
       "  </tbody>\n",
       "</table>\n",
       "</div>"
      ]
     },
     "execution_count": 15,
     "metadata": {},
     "output_type": "execute_result"
    }
   ],
   "execution_count": 15
  },
  {
   "metadata": {},
   "cell_type": "markdown",
   "source": [
    "## 4. Split Data into Training and Test Sets\n",
    "We shuffle the dataset and split it into **80% training** and **20% testing** subsets.\n",
    "This allows us to train the model on one part of the data and evaluate it on unseen reviews.\n"
   ],
   "id": "a61ae7ebd2351d17"
  },
  {
   "metadata": {
    "ExecuteTime": {
     "end_time": "2025-10-08T04:01:49.570317Z",
     "start_time": "2025-10-08T04:01:49.554993Z"
    }
   },
   "cell_type": "code",
   "source": [
    "# Shuffle dataset\n",
    "df = df.sample(frac=1, random_state=42).reset_index(drop=True)\n",
    "\n",
    "# Split into 80% train, 20% test\n",
    "X_train, X_test, y_train, y_test = train_test_split(\n",
    "    df['review'], df['label'], test_size=0.2, random_state=42\n",
    ")\n",
    "\n",
    "print(f\"Training samples: {len(X_train)}, Test samples: {len(X_test)}\")"
   ],
   "id": "ec75a7bfcf075ef2",
   "outputs": [
    {
     "name": "stdout",
     "output_type": "stream",
     "text": [
      "Training samples: 1600, Test samples: 400\n"
     ]
    }
   ],
   "execution_count": 16
  },
  {
   "metadata": {},
   "cell_type": "markdown",
   "source": [
    "## 5. Feature Extraction using TF-IDF\n",
    "We use **TF-IDF (Term Frequency–Inverse Document Frequency)** to convert text into numerical features.\n",
    "This method gives higher weight to words that are important for identifying sentiment, while reducing the influence of common words.\n"
   ],
   "id": "a4e3600a5921d262"
  },
  {
   "metadata": {
    "ExecuteTime": {
     "end_time": "2025-10-08T04:02:08.269647Z",
     "start_time": "2025-10-08T04:02:07.972588Z"
    }
   },
   "cell_type": "code",
   "source": [
    "vectorizer = TfidfVectorizer(stop_words='english', max_features=5000)\n",
    "X_train_tfidf = vectorizer.fit_transform(X_train)\n",
    "X_test_tfidf = vectorizer.transform(X_test)\n",
    "\n",
    "print(\"Feature matrix shape:\", X_train_tfidf.shape)"
   ],
   "id": "5996e595aa35afb5",
   "outputs": [
    {
     "name": "stdout",
     "output_type": "stream",
     "text": [
      "Feature matrix shape: (1600, 5000)\n"
     ]
    }
   ],
   "execution_count": 17
  },
  {
   "metadata": {},
   "cell_type": "markdown",
   "source": [
    "## 6. Train Logistic Regression Model\n",
    "We train a **Logistic Regression** model, a linear classifier that predicts the probability of each sentiment label.\n",
    "It is efficient, interpretable, and often performs well on text data.\n"
   ],
   "id": "404211448f8b1022"
  },
  {
   "metadata": {
    "ExecuteTime": {
     "end_time": "2025-10-08T04:02:22.322326Z",
     "start_time": "2025-10-08T04:02:22.283186Z"
    }
   },
   "cell_type": "code",
   "source": [
    "model = LogisticRegression(max_iter=1000)\n",
    "model.fit(X_train_tfidf, y_train)\n",
    "\n",
    "y_pred = model.predict(X_test_tfidf)"
   ],
   "id": "b7e42cc63207cfd2",
   "outputs": [
    {
     "name": "stderr",
     "output_type": "stream",
     "text": [
      "/Users/luna/Academic/2025 Spring/41040 Introduction to Artificial Intelligence/Lab/.venv/lib/python3.11/site-packages/sklearn/linear_model/_linear_loss.py:209: RuntimeWarning: divide by zero encountered in matmul\n",
      "  norm2_w = weights @ weights if weights.ndim == 1 else squared_norm(weights)\n",
      "/Users/luna/Academic/2025 Spring/41040 Introduction to Artificial Intelligence/Lab/.venv/lib/python3.11/site-packages/sklearn/linear_model/_linear_loss.py:209: RuntimeWarning: overflow encountered in matmul\n",
      "  norm2_w = weights @ weights if weights.ndim == 1 else squared_norm(weights)\n",
      "/Users/luna/Academic/2025 Spring/41040 Introduction to Artificial Intelligence/Lab/.venv/lib/python3.11/site-packages/sklearn/linear_model/_linear_loss.py:209: RuntimeWarning: invalid value encountered in matmul\n",
      "  norm2_w = weights @ weights if weights.ndim == 1 else squared_norm(weights)\n"
     ]
    }
   ],
   "execution_count": 18
  },
  {
   "metadata": {},
   "cell_type": "markdown",
   "source": [
    "## 7. Evaluate Model Performance\n",
    "We assess the model’s performance using **accuracy** and **classification report** metrics.\n",
    "This tells us how well the model distinguishes between positive and negative reviews."
   ],
   "id": "9f247c5e9161e30a"
  },
  {
   "metadata": {
    "ExecuteTime": {
     "end_time": "2025-10-08T04:02:40.919866Z",
     "start_time": "2025-10-08T04:02:40.909402Z"
    }
   },
   "cell_type": "code",
   "source": [
    "print(\"Accuracy:\", accuracy_score(y_test, y_pred))\n",
    "print(\"\\nClassification Report:\\n\", classification_report(y_test, y_pred))"
   ],
   "id": "b2b9a1062eb193a0",
   "outputs": [
    {
     "name": "stdout",
     "output_type": "stream",
     "text": [
      "Accuracy: 0.855\n",
      "\n",
      "Classification Report:\n",
      "               precision    recall  f1-score   support\n",
      "\n",
      "         neg       0.84      0.87      0.86       197\n",
      "         pos       0.87      0.84      0.85       203\n",
      "\n",
      "    accuracy                           0.85       400\n",
      "   macro avg       0.86      0.86      0.85       400\n",
      "weighted avg       0.86      0.85      0.85       400\n",
      "\n"
     ]
    }
   ],
   "execution_count": 19
  },
  {
   "metadata": {},
   "cell_type": "markdown",
   "source": [
    "## 8. Visualize Confusion Matrix\n",
    "The confusion matrix helps us see how many positive and negative reviews were correctly or incorrectly classified."
   ],
   "id": "cbc3ead77a408895"
  },
  {
   "metadata": {
    "ExecuteTime": {
     "end_time": "2025-10-08T04:02:58.675730Z",
     "start_time": "2025-10-08T04:02:58.577385Z"
    }
   },
   "cell_type": "code",
   "source": [
    "cm = confusion_matrix(y_test, y_pred, labels=['pos', 'neg'])\n",
    "sns.heatmap(cm, annot=True, fmt='d', cmap='Blues',\n",
    "            xticklabels=['Positive', 'Negative'],\n",
    "            yticklabels=['Positive', 'Negative'])\n",
    "plt.title(\"Confusion Matrix\")\n",
    "plt.xlabel(\"Predicted Label\")\n",
    "plt.ylabel(\"True Label\")\n",
    "plt.show()"
   ],
   "id": "a570c8bebaa05a1a",
   "outputs": [
    {
     "data": {
      "text/plain": [
       "<Figure size 640x480 with 2 Axes>"
      ],
      "image/png": "[encoded data removed]"
     },
     "metadata": {},
     "output_type": "display_data",
     "jetTransient": {
      "display_id": null
     }
    }
   ],
   "execution_count": 20
  },
  {
   "metadata": {},
   "cell_type": "markdown",
   "source": [
    "## 9. Try Example Predictions\n",
    "We now test the trained model on custom input sentences to see how it performs on new data."
   ],
   "id": "a0d6e01a74ea5d58"
  },
  {
   "metadata": {
    "ExecuteTime": {
     "end_time": "2025-10-08T04:03:12.758534Z",
     "start_time": "2025-10-08T04:03:12.751742Z"
    }
   },
   "cell_type": "code",
   "source": [
    "examples = [\n",
    "    \"I absolutely loved this movie! The story and acting were brilliant.\",\n",
    "    \"What a terrible film. I wasted two hours of my life.\",\n",
    "    \"Not bad, but the ending was disappointing.\",\n",
    "    \"A masterpiece of modern cinema!\"\n",
    "]\n",
    "\n",
    "X_examples = vectorizer.transform(examples)\n",
    "predictions = model.predict(X_examples)\n",
    "\n",
    "for text, pred in zip(examples, predictions):\n",
    "    print(f\"\\nText: {text}\\nPredicted Sentiment: {pred}\")"
   ],
   "id": "bcf4a758d9dc31a8",
   "outputs": [
    {
     "name": "stdout",
     "output_type": "stream",
     "text": [
      "\n",
      "Text: I absolutely loved this movie! The story and acting were brilliant.\n",
      "Predicted Sentiment: pos\n",
      "\n",
      "Text: What a terrible film. I wasted two hours of my life.\n",
      "Predicted Sentiment: neg\n",
      "\n",
      "Text: Not bad, but the ending was disappointing.\n",
      "Predicted Sentiment: neg\n",
      "\n",
      "Text: A masterpiece of modern cinema!\n",
      "Predicted Sentiment: pos\n"
     ]
    }
   ],
   "execution_count": 21
  },
  {
   "metadata": {},
   "cell_type": "markdown",
   "source": [
    "## 10. Conclusion\n",
    "- Logistic Regression performs well on high-dimensional, sparse text data.\n",
    "- Positive words (e.g., *love*, *great*, *amazing*) push predictions toward the **positive** class.\n",
    "- Negative words (e.g., *boring*, *terrible*, *waste*) push predictions toward the **negative** class.\n",
    "- Although simple, this model provides a solid baseline for sentiment analysis."
   ],
   "id": "3a45f3ff5409e430"
  }
 ],
 "metadata": {
  "kernelspec": {
   "display_name": "Python 3",
   "language": "python",
   "name": "python3"
  },
  "language_info": {
   "codemirror_mode": {
    "name": "ipython",
    "version": 2
   },
   "file_extension": ".py",
   "mimetype": "text/x-python",
   "name": "python",
   "nbconvert_exporter": "python",
   "pygments_lexer": "ipython2",
   "version": "2.7.6"
  }
 },
 "nbformat": 4,
 "nbformat_minor": 5
}
