{
 "cells": [
  {
   "metadata": {
    "collapsed": true,
    "ExecuteTime": {
     "end_time": "2025-08-23T11:19:56.900104Z",
     "start_time": "2025-08-23T11:19:56.898422Z"
    }
   },
   "cell_type": "markdown",
   "source": [
    "# Demo 2: Simulated Annealing in Travelling Salesman Problem (TSP)\n",
    "\n",
    "## Step 1: Import Libraries"
   ],
   "id": "30209d6b6d8aa68b"
  },
  {
   "metadata": {
    "ExecuteTime": {
     "end_time": "2025-08-23T16:57:56.042035Z",
     "start_time": "2025-08-23T16:57:55.648258Z"
    }
   },
   "cell_type": "code",
   "source": [
    "#Libraries: pandas, math, random\n",
    "import pandas as pd\n",
    "import math\n",
    "import random"
   ],
   "id": "2e2878487e8542ca",
   "outputs": [],
   "execution_count": 5
  },
  {
   "metadata": {
    "ExecuteTime": {
     "end_time": "2025-08-23T11:20:41.926789Z",
     "start_time": "2025-08-23T11:20:41.923290Z"
    }
   },
   "cell_type": "markdown",
   "source": [
    "## Step 2: Initialize Data\n",
    "\n",
    "Read the .csv file to get the x and y coordinate of each city"
   ],
   "id": "c05baa40130cb179"
  },
  {
   "metadata": {
    "ExecuteTime": {
     "end_time": "2025-08-23T16:57:56.064626Z",
     "start_time": "2025-08-23T16:57:56.047498Z"
    }
   },
   "cell_type": "code",
   "source": [
    "df = pd.read_csv(\"./data/problemData.csv\")\n",
    "df.head()"
   ],
   "id": "1d6bc434a0dccc5a",
   "outputs": [
    {
     "data": {
      "text/plain": [
       "  LocationName  LocationX  LocationY\n",
       "0         Arad         91        492\n",
       "1    Bucharest        400        327\n",
       "2      Craiova        253        288\n",
       "3      Drobeta        165        299\n",
       "4       Eforie        562        293"
      ],
      "text/html": [
       "<div>\n",
       "<style scoped>\n",
       "    .dataframe tbody tr th:only-of-type {\n",
       "        vertical-align: middle;\n",
       "    }\n",
       "\n",
       "    .dataframe tbody tr th {\n",
       "        vertical-align: top;\n",
       "    }\n",
       "\n",
       "    .dataframe thead th {\n",
       "        text-align: right;\n",
       "    }\n",
       "</style>\n",
       "<table border=\"1\" class=\"dataframe\">\n",
       "  <thead>\n",
       "    <tr style=\"text-align: right;\">\n",
       "      <th></th>\n",
       "      <th>LocationName</th>\n",
       "      <th>LocationX</th>\n",
       "      <th>LocationY</th>\n",
       "    </tr>\n",
       "  </thead>\n",
       "  <tbody>\n",
       "    <tr>\n",
       "      <th>0</th>\n",
       "      <td>Arad</td>\n",
       "      <td>91</td>\n",
       "      <td>492</td>\n",
       "    </tr>\n",
       "    <tr>\n",
       "      <th>1</th>\n",
       "      <td>Bucharest</td>\n",
       "      <td>400</td>\n",
       "      <td>327</td>\n",
       "    </tr>\n",
       "    <tr>\n",
       "      <th>2</th>\n",
       "      <td>Craiova</td>\n",
       "      <td>253</td>\n",
       "      <td>288</td>\n",
       "    </tr>\n",
       "    <tr>\n",
       "      <th>3</th>\n",
       "      <td>Drobeta</td>\n",
       "      <td>165</td>\n",
       "      <td>299</td>\n",
       "    </tr>\n",
       "    <tr>\n",
       "      <th>4</th>\n",
       "      <td>Eforie</td>\n",
       "      <td>562</td>\n",
       "      <td>293</td>\n",
       "    </tr>\n",
       "  </tbody>\n",
       "</table>\n",
       "</div>"
      ]
     },
     "execution_count": 6,
     "metadata": {},
     "output_type": "execute_result"
    }
   ],
   "execution_count": 6
  },
  {
   "metadata": {},
   "cell_type": "markdown",
   "source": "Import the data into a dictionary, format is name:(x, y)",
   "id": "c2ec99e4d5a6c222"
  },
  {
   "metadata": {
    "ExecuteTime": {
     "end_time": "2025-08-23T16:57:56.111268Z",
     "start_time": "2025-08-23T16:57:56.106671Z"
    }
   },
   "cell_type": "code",
   "source": [
    "#create dictionary\n",
    "cities = {}\n",
    "#import data\n",
    "cityName = df[\"LocationName\"]\n",
    "locationX = df[\"LocationX\"]\n",
    "locationY = df[\"LocationY\"]\n",
    "#zip the x and y coordinates into (x,y) format\n",
    "location = zip(locationX, locationY)\n",
    "#add to dictionary\n",
    "for name, coordinate in zip(cityName, location):\n",
    "    cities.update({name : coordinate})\n",
    "#show\n",
    "cities"
   ],
   "id": "edbc99f55e6a2a64",
   "outputs": [
    {
     "data": {
      "text/plain": [
       "{'Arad': (91, 492),\n",
       " 'Bucharest': (400, 327),\n",
       " 'Craiova': (253, 288),\n",
       " 'Drobeta': (165, 299),\n",
       " 'Eforie': (562, 293),\n",
       " 'Fagaras': (305, 449),\n",
       " 'Giurgiu': (375, 270),\n",
       " 'Hirsova': (534, 350),\n",
       " 'Iasi': (473, 506),\n",
       " 'Lugoj': (165, 379),\n",
       " 'Mehadia': (168, 339),\n",
       " 'Neamt': (406, 537),\n",
       " 'Oradea': (131, 571),\n",
       " 'Pitesti': (320, 368),\n",
       " 'Rimnicu': (233, 410),\n",
       " 'Sibiu': (207, 457),\n",
       " 'Timisoara': (94, 410),\n",
       " 'Urziceni': (456, 350),\n",
       " 'Vaslui': (509, 444),\n",
       " 'Zerind': (108, 531)}"
      ]
     },
     "execution_count": 7,
     "metadata": {},
     "output_type": "execute_result"
    }
   ],
   "execution_count": 7
  },
  {
   "metadata": {
    "ExecuteTime": {
     "end_time": "2025-08-23T11:34:31.705536Z",
     "start_time": "2025-08-23T11:34:31.702034Z"
    }
   },
   "cell_type": "markdown",
   "source": "## Step 3: Functions",
   "id": "2997e20921203b3e"
  },
  {
   "metadata": {},
   "cell_type": "markdown",
   "source": "In order to find the best way, we need to calculate the distance first",
   "id": "52c9a66133220201"
  },
  {
   "metadata": {
    "ExecuteTime": {
     "end_time": "2025-08-23T16:57:56.154589Z",
     "start_time": "2025-08-23T16:57:56.151865Z"
    }
   },
   "cell_type": "code",
   "source": [
    "#calculate the Euclidian distance\n",
    "def distance(city1, city2):\n",
    "    return math.sqrt((city1[0] - city2[0]) ** 2 + (city1[1] - city2[1]) ** 2)"
   ],
   "id": "460a1df782291f3b",
   "outputs": [],
   "execution_count": 8
  },
  {
   "metadata": {},
   "cell_type": "markdown",
   "source": "With this function, we can calculate the total distance of a path (energy)",
   "id": "eadeaa86a94007c5"
  },
  {
   "metadata": {
    "ExecuteTime": {
     "end_time": "2025-08-23T16:57:56.160814Z",
     "start_time": "2025-08-23T16:57:56.157707Z"
    }
   },
   "cell_type": "code",
   "source": [
    "#calculate the total distance of a path\n",
    "def energy(path, cities):\n",
    "    dist = 0\n",
    "    for i in range(len(path)):\n",
    "        dist += distance(cities[path[i]], cities[path[(i + 1) % len(path)]])\n",
    "    return dist"
   ],
   "id": "3f3b356efcf7756b",
   "outputs": [],
   "execution_count": 9
  },
  {
   "metadata": {},
   "cell_type": "markdown",
   "source": "Generate some different solutions by exchanging two cities (neighbour)",
   "id": "122704b2f0950f98"
  },
  {
   "metadata": {
    "ExecuteTime": {
     "end_time": "2025-08-23T16:57:56.178739Z",
     "start_time": "2025-08-23T16:57:56.176027Z"
    }
   },
   "cell_type": "code",
   "source": [
    "def neighbour(path):\n",
    "    neighbours = []\n",
    "    for _ in range(5):\n",
    "        tempPath = path[:]\n",
    "        i, j = random.sample(range(len(path)), 2)\n",
    "        tempPath[i], tempPath[j] = tempPath[j], tempPath[i]\n",
    "        neighbours.append(tempPath)\n",
    "    return neighbours"
   ],
   "id": "761e7fb630203d26",
   "outputs": [],
   "execution_count": 10
  },
  {
   "metadata": {},
   "cell_type": "markdown",
   "source": "Define the schedule function",
   "id": "7a198f82f11fb6bd"
  },
  {
   "metadata": {
    "ExecuteTime": {
     "end_time": "2025-08-23T16:57:56.183816Z",
     "start_time": "2025-08-23T16:57:56.181935Z"
    }
   },
   "cell_type": "code",
   "source": [
    "def schedule(k=20, lam=0.005, limit=10000):\n",
    "    return lambda t: (k * math.exp(-lam * t) if t < limit else 0)"
   ],
   "id": "ac974fc07d5b627a",
   "outputs": [],
   "execution_count": 11
  },
  {
   "metadata": {},
   "cell_type": "markdown",
   "source": "Core of simulated annealing",
   "id": "cf5938961faef0fc"
  },
  {
   "metadata": {
    "ExecuteTime": {
     "end_time": "2025-08-23T16:57:56.189967Z",
     "start_time": "2025-08-23T16:57:56.186037Z"
    }
   },
   "cell_type": "code",
   "source": [
    "def simulatedAnnealing(cities, startCity = \"Arad\", stopTemp = 1e-3, maxIter = 1000):\n",
    "    currentPath = list(cities.keys())\n",
    "    if startCity and startCity in currentPath:\n",
    "        currentPath.remove(startCity)\n",
    "        random.shuffle(currentPath)\n",
    "        currentPath = [startCity] + currentPath\n",
    "    else:\n",
    "        currentPath = currentPath[:]\n",
    "        random.shuffle(currentPath)\n",
    "    currentEnergy = energy(currentPath, cities)\n",
    "\n",
    "    bestPath = currentPath[:]\n",
    "    bestEnergy = currentEnergy\n",
    "\n",
    "    T_func = schedule()\n",
    "\n",
    "    for t in range(maxIter):\n",
    "        T = T_func(t)\n",
    "        if T <= stopTemp:\n",
    "            break\n",
    "        newPath = currentPath[:]\n",
    "        i, j = random.sample(range(1, len(newPath)), 2)\n",
    "        newPath[i], newPath[j] = newPath[j], newPath[i]\n",
    "        newEnergy = energy(newPath, cities)\n",
    "        deltaE = newEnergy - currentEnergy\n",
    "        if deltaE < 0 or random.random() < math.exp(-deltaE / T):\n",
    "            currentPath, currentEnergy = newPath, newEnergy\n",
    "            if newEnergy < bestEnergy:\n",
    "                bestPath, bestEnergy = newPath[:], newEnergy\n",
    "    return bestPath, bestEnergy"
   ],
   "id": "d339ae5c25410197",
   "outputs": [],
   "execution_count": 12
  },
  {
   "metadata": {},
   "cell_type": "markdown",
   "source": "## Step 4: Run Simulated Annealing",
   "id": "b530c8b8aa8bb6c"
  },
  {
   "metadata": {
    "ExecuteTime": {
     "end_time": "2025-08-23T16:58:03.160611Z",
     "start_time": "2025-08-23T16:58:03.123922Z"
    }
   },
   "cell_type": "code",
   "source": [
    "bestPath, bestEnergy = simulatedAnnealing(cities)\n",
    "print(\"Best path: \", bestPath)\n",
    "print(\"Best energy: \", bestEnergy)"
   ],
   "id": "398b01c63792add8",
   "outputs": [
    {
     "name": "stdout",
     "output_type": "stream",
     "text": [
      "Best path:  ['Arad', 'Sibiu', 'Oradea', 'Zerind', 'Timisoara', 'Lugoj', 'Rimnicu', 'Pitesti', 'Mehadia', 'Drobeta', 'Craiova', 'Giurgiu', 'Bucharest', 'Urziceni', 'Hirsova', 'Eforie', 'Vaslui', 'Iasi', 'Neamt', 'Fagaras']\n",
      "Best energy:  2003.8690070375592\n"
     ]
    }
   ],
   "execution_count": 18
  },
  {
   "metadata": {},
   "cell_type": "markdown",
   "source": "Notice: Because this algorithm is a random process, each execution will have different output.",
   "id": "97233301679a97eb"
  }
 ],
 "metadata": {
  "kernelspec": {
   "display_name": "Python 3",
   "language": "python",
   "name": "python3"
  },
  "language_info": {
   "codemirror_mode": {
    "name": "ipython",
    "version": 2
   },
   "file_extension": ".py",
   "mimetype": "text/x-python",
   "name": "python",
   "nbconvert_exporter": "python",
   "pygments_lexer": "ipython2",
   "version": "2.7.6"
  }
 },
 "nbformat": 4,
 "nbformat_minor": 5
}
