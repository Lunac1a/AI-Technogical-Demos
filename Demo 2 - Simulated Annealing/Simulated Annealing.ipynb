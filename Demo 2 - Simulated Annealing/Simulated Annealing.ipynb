{
 "cells": [
  {
   "metadata": {
    "collapsed": true,
    "ExecuteTime": {
     "end_time": "2025-08-23T11:19:56.900104Z",
     "start_time": "2025-08-23T11:19:56.898422Z"
    }
   },
   "cell_type": "markdown",
   "source": [
    "# Demo 2: Simulated Annealing in Travelling Salesman Problem (TSP)\n",
    "\n",
    "## Step 1: Import Libraries"
   ],
   "id": "30209d6b6d8aa68b"
  },
  {
   "metadata": {
    "ExecuteTime": {
     "end_time": "2025-08-23T11:48:59.178787Z",
     "start_time": "2025-08-23T11:48:59.174951Z"
    }
   },
   "cell_type": "code",
   "source": [
    "from ctypes.wintypes import tagMSG\n",
    "\n",
    "#Libraries: pandas, math, random\n",
    "import pandas as pd\n",
    "import math\n",
    "import random\n",
    "\n",
    "from networkx.algorithms.connectivity.edge_augmentation import collapse"
   ],
   "id": "2e2878487e8542ca",
   "outputs": [],
   "execution_count": 13
  },
  {
   "metadata": {
    "ExecuteTime": {
     "end_time": "2025-08-23T11:20:41.926789Z",
     "start_time": "2025-08-23T11:20:41.923290Z"
    }
   },
   "cell_type": "markdown",
   "source": [
    "## Step 2: Initialize Data\n",
    "\n",
    "Read the .csv file to get the x and y coordinate of each city"
   ],
   "id": "c05baa40130cb179"
  },
  {
   "metadata": {
    "ExecuteTime": {
     "end_time": "2025-08-23T11:22:32.851825Z",
     "start_time": "2025-08-23T11:22:32.841261Z"
    }
   },
   "cell_type": "code",
   "source": [
    "df = pd.read_csv(\"./data/problemData.csv\")\n",
    "df.head()"
   ],
   "id": "1d6bc434a0dccc5a",
   "outputs": [
    {
     "data": {
      "text/plain": [
       "  LocationName  LocationX  LocationY\n",
       "0         Arad         91        492\n",
       "1    Bucharest        400        327\n",
       "2      Craiova        253        288\n",
       "3      Drobeta        165        299\n",
       "4       Eforie        562        293"
      ],
      "text/html": [
       "<div>\n",
       "<style scoped>\n",
       "    .dataframe tbody tr th:only-of-type {\n",
       "        vertical-align: middle;\n",
       "    }\n",
       "\n",
       "    .dataframe tbody tr th {\n",
       "        vertical-align: top;\n",
       "    }\n",
       "\n",
       "    .dataframe thead th {\n",
       "        text-align: right;\n",
       "    }\n",
       "</style>\n",
       "<table border=\"1\" class=\"dataframe\">\n",
       "  <thead>\n",
       "    <tr style=\"text-align: right;\">\n",
       "      <th></th>\n",
       "      <th>LocationName</th>\n",
       "      <th>LocationX</th>\n",
       "      <th>LocationY</th>\n",
       "    </tr>\n",
       "  </thead>\n",
       "  <tbody>\n",
       "    <tr>\n",
       "      <th>0</th>\n",
       "      <td>Arad</td>\n",
       "      <td>91</td>\n",
       "      <td>492</td>\n",
       "    </tr>\n",
       "    <tr>\n",
       "      <th>1</th>\n",
       "      <td>Bucharest</td>\n",
       "      <td>400</td>\n",
       "      <td>327</td>\n",
       "    </tr>\n",
       "    <tr>\n",
       "      <th>2</th>\n",
       "      <td>Craiova</td>\n",
       "      <td>253</td>\n",
       "      <td>288</td>\n",
       "    </tr>\n",
       "    <tr>\n",
       "      <th>3</th>\n",
       "      <td>Drobeta</td>\n",
       "      <td>165</td>\n",
       "      <td>299</td>\n",
       "    </tr>\n",
       "    <tr>\n",
       "      <th>4</th>\n",
       "      <td>Eforie</td>\n",
       "      <td>562</td>\n",
       "      <td>293</td>\n",
       "    </tr>\n",
       "  </tbody>\n",
       "</table>\n",
       "</div>"
      ]
     },
     "execution_count": 6,
     "metadata": {},
     "output_type": "execute_result"
    }
   ],
   "execution_count": 6
  },
  {
   "metadata": {},
   "cell_type": "markdown",
   "source": "Import the data into a dictionary, format is name:(x, y)",
   "id": "c2ec99e4d5a6c222"
  },
  {
   "metadata": {
    "ExecuteTime": {
     "end_time": "2025-08-23T11:31:06.298031Z",
     "start_time": "2025-08-23T11:31:06.285990Z"
    }
   },
   "cell_type": "code",
   "source": [
    "#create dictionary\n",
    "cities = {}\n",
    "#import data\n",
    "cityName = df[\"LocationName\"]\n",
    "locationX = df[\"LocationX\"]\n",
    "locationY = df[\"LocationY\"]\n",
    "#zip the x and y coordinates into (x,y) format\n",
    "location = zip(locationX, locationY)\n",
    "#add to dictionary\n",
    "for name, coordinate in zip(cityName, location):\n",
    "    cities.update({name : coordinate})\n",
    "#show\n",
    "cities"
   ],
   "id": "edbc99f55e6a2a64",
   "outputs": [
    {
     "data": {
      "text/plain": [
       "{'Arad': (91, 492),\n",
       " 'Bucharest': (400, 327),\n",
       " 'Craiova': (253, 288),\n",
       " 'Drobeta': (165, 299),\n",
       " 'Eforie': (562, 293),\n",
       " 'Fagaras': (305, 449),\n",
       " 'Giurgiu': (375, 270),\n",
       " 'Hirsova': (534, 350),\n",
       " 'Iasi': (473, 506),\n",
       " 'Lugoj': (165, 379),\n",
       " 'Mehadia': (168, 339),\n",
       " 'Neamt': (406, 537),\n",
       " 'Oradea': (131, 571),\n",
       " 'Pitesti': (320, 368),\n",
       " 'Rimnicu': (233, 410),\n",
       " 'Sibiu': (207, 457),\n",
       " 'Timisoara': (94, 410),\n",
       " 'Urziceni': (456, 350),\n",
       " 'Vaslui': (509, 444),\n",
       " 'Zerind': (108, 531)}"
      ]
     },
     "execution_count": 7,
     "metadata": {},
     "output_type": "execute_result"
    }
   ],
   "execution_count": 7
  },
  {
   "metadata": {
    "ExecuteTime": {
     "end_time": "2025-08-23T11:34:31.705536Z",
     "start_time": "2025-08-23T11:34:31.702034Z"
    }
   },
   "cell_type": "markdown",
   "source": "## Step 3: Functions",
   "id": "2997e20921203b3e"
  },
  {
   "metadata": {},
   "cell_type": "markdown",
   "source": "In order to find the best way, we need to calculate the distance first",
   "id": "52c9a66133220201"
  },
  {
   "metadata": {
    "ExecuteTime": {
     "end_time": "2025-08-23T11:48:37.595760Z",
     "start_time": "2025-08-23T11:48:37.587779Z"
    }
   },
   "cell_type": "code",
   "source": [
    "#calculate the Euclidian distance\n",
    "def distance(city1, city2):\n",
    "    return math.sqrt((city1[0] - city2[0]) ** 2 + (city1[1] - city2[1]) ** 2)"
   ],
   "id": "460a1df782291f3b",
   "outputs": [],
   "execution_count": 11
  },
  {
   "metadata": {},
   "cell_type": "markdown",
   "source": "With this function, we can calculate the total distance of a path (energy)",
   "id": "eadeaa86a94007c5"
  },
  {
   "metadata": {
    "ExecuteTime": {
     "end_time": "2025-08-23T12:52:24.617895Z",
     "start_time": "2025-08-23T12:52:24.610032Z"
    }
   },
   "cell_type": "code",
   "source": [
    "#calculate the total distance of a path\n",
    "def energy(path, cities):\n",
    "    dist = 0\n",
    "    for i in range(len(path)):\n",
    "        dist += distance(cities[path[i]], cities[path[(i + 1) % len(path)]])\n",
    "    return dist"
   ],
   "id": "3f3b356efcf7756b",
   "outputs": [],
   "execution_count": 17
  },
  {
   "metadata": {},
   "cell_type": "markdown",
   "source": "Generate some different solutions by exchanging two cities (neighbour)",
   "id": "122704b2f0950f98"
  },
  {
   "metadata": {
    "ExecuteTime": {
     "end_time": "2025-08-23T12:08:49.324863Z",
     "start_time": "2025-08-23T12:08:49.317591Z"
    }
   },
   "cell_type": "code",
   "source": [
    "def neighbour(path):\n",
    "    neighbours = []\n",
    "    for _ in range(5):\n",
    "        tempPath = path[:]\n",
    "        i, j = random.sample(range(len(path)), 2)\n",
    "        tempPath[i], tempPath[j] = tempPath[j], tempPath[i]\n",
    "        neighbours.append(tempPath)\n",
    "    return neighbours"
   ],
   "id": "761e7fb630203d26",
   "outputs": [],
   "execution_count": 15
  },
  {
   "metadata": {},
   "cell_type": "markdown",
   "source": "Define the schedule function",
   "id": "7a198f82f11fb6bd"
  },
  {
   "metadata": {
    "ExecuteTime": {
     "end_time": "2025-08-23T12:44:44.884043Z",
     "start_time": "2025-08-23T12:44:44.878957Z"
    }
   },
   "cell_type": "code",
   "source": [
    "def schedule(k=20, lam=0.005, limit=10000):\n",
    "    return lambda t: (k * math.exp(-lam * t) if t < limit else 0)"
   ],
   "id": "ac974fc07d5b627a",
   "outputs": [],
   "execution_count": 16
  },
  {
   "metadata": {},
   "cell_type": "markdown",
   "source": "Core of simulated annealing",
   "id": "cf5938961faef0fc"
  },
  {
   "metadata": {
    "ExecuteTime": {
     "end_time": "2025-08-23T13:03:18.335464Z",
     "start_time": "2025-08-23T13:03:18.325435Z"
    }
   },
   "cell_type": "code",
   "source": [
    "def simulatedAnnealing(cities, initialTemp = 20, coolingRate = 0.995, stopTemp = 1e-3, maxIter = 1000):\n",
    "    currentPath = list(cities.keys())\n",
    "    random.shuffle(currentPath)\n",
    "    currentEnergy = energy(currentPath, cities)\n",
    "\n",
    "    bestPath = currentPath[:]\n",
    "    bestEnergy = currentEnergy\n",
    "\n",
    "    temperate = initialTemp\n",
    "\n",
    "    while temperate > stopTemp:\n",
    "        for _ in range(maxIter):\n",
    "            newPath = random.choice(neighbour(currentPath))\n",
    "            newEnergy = energy(newPath, cities)\n",
    "            deltaE = newEnergy - currentEnergy\n",
    "            if deltaE < 0 or random.random() < math.exp(-deltaE / temperate):\n",
    "                currentPath, currentEnergy = newPath, newEnergy\n",
    "                if newEnergy < bestEnergy:\n",
    "                    bestPath, bestEnergy = newPath[:], newEnergy\n",
    "        temperate *= coolingRate\n",
    "    return bestPath, bestEnergy"
   ],
   "id": "d339ae5c25410197",
   "outputs": [],
   "execution_count": 19
  },
  {
   "metadata": {},
   "cell_type": "markdown",
   "source": "## Step 4: Run Simulated Annealing",
   "id": "b530c8b8aa8bb6c"
  },
  {
   "metadata": {
    "ExecuteTime": {
     "end_time": "2025-08-23T13:04:28.401211Z",
     "start_time": "2025-08-23T13:04:21.534931Z"
    }
   },
   "cell_type": "code",
   "source": [
    "bestPath, bestEnergy = simulatedAnnealing(cities)\n",
    "print(\"Best path: \", bestPath)\n",
    "print(\"Best energy: \", bestEnergy)"
   ],
   "id": "398b01c63792add8",
   "outputs": [
    {
     "ename": "KeyboardInterrupt",
     "evalue": "",
     "output_type": "error",
     "traceback": [
      "\u001B[0;31m---------------------------------------------------------------------------\u001B[0m",
      "\u001B[0;31mKeyboardInterrupt\u001B[0m                         Traceback (most recent call last)",
      "\u001B[0;32m<ipython-input-20-2a955f07dccb>\u001B[0m in \u001B[0;36m<module>\u001B[0;34m\u001B[0m\n\u001B[0;32m----> 1\u001B[0;31m \u001B[0mbestPath\u001B[0m\u001B[0;34m,\u001B[0m \u001B[0mbestEnergy\u001B[0m \u001B[0;34m=\u001B[0m \u001B[0msimulatedAnnealing\u001B[0m\u001B[0;34m(\u001B[0m\u001B[0mcities\u001B[0m\u001B[0;34m)\u001B[0m\u001B[0;34m\u001B[0m\u001B[0;34m\u001B[0m\u001B[0m\n\u001B[0m\u001B[1;32m      2\u001B[0m \u001B[0mprint\u001B[0m\u001B[0;34m(\u001B[0m\u001B[0;34m\"Best path: \"\u001B[0m\u001B[0;34m,\u001B[0m \u001B[0mbestPath\u001B[0m\u001B[0;34m)\u001B[0m\u001B[0;34m\u001B[0m\u001B[0;34m\u001B[0m\u001B[0m\n\u001B[1;32m      3\u001B[0m \u001B[0mprint\u001B[0m\u001B[0;34m(\u001B[0m\u001B[0;34m\"Best energy: \"\u001B[0m\u001B[0;34m,\u001B[0m \u001B[0mbestEnergy\u001B[0m\u001B[0;34m)\u001B[0m\u001B[0;34m\u001B[0m\u001B[0;34m\u001B[0m\u001B[0m\n",
      "\u001B[0;32m<ipython-input-19-7bb2668597e3>\u001B[0m in \u001B[0;36msimulatedAnnealing\u001B[0;34m(cities, initialTemp, coolingRate, stopTemp, maxIter)\u001B[0m\n\u001B[1;32m     12\u001B[0m         \u001B[0;32mfor\u001B[0m \u001B[0m_\u001B[0m \u001B[0;32min\u001B[0m \u001B[0mrange\u001B[0m\u001B[0;34m(\u001B[0m\u001B[0mmaxIter\u001B[0m\u001B[0;34m)\u001B[0m\u001B[0;34m:\u001B[0m\u001B[0;34m\u001B[0m\u001B[0;34m\u001B[0m\u001B[0m\n\u001B[1;32m     13\u001B[0m             \u001B[0mnewPath\u001B[0m \u001B[0;34m=\u001B[0m \u001B[0mrandom\u001B[0m\u001B[0;34m.\u001B[0m\u001B[0mchoice\u001B[0m\u001B[0;34m(\u001B[0m\u001B[0mneighbour\u001B[0m\u001B[0;34m(\u001B[0m\u001B[0mcurrentPath\u001B[0m\u001B[0;34m)\u001B[0m\u001B[0;34m)\u001B[0m\u001B[0;34m\u001B[0m\u001B[0;34m\u001B[0m\u001B[0m\n\u001B[0;32m---> 14\u001B[0;31m             \u001B[0mnewEnergy\u001B[0m \u001B[0;34m=\u001B[0m \u001B[0menergy\u001B[0m\u001B[0;34m(\u001B[0m\u001B[0mnewPath\u001B[0m\u001B[0;34m,\u001B[0m \u001B[0mcities\u001B[0m\u001B[0;34m)\u001B[0m\u001B[0;34m\u001B[0m\u001B[0;34m\u001B[0m\u001B[0m\n\u001B[0m\u001B[1;32m     15\u001B[0m             \u001B[0mdeltaE\u001B[0m \u001B[0;34m=\u001B[0m \u001B[0mnewEnergy\u001B[0m \u001B[0;34m-\u001B[0m \u001B[0mcurrentEnergy\u001B[0m\u001B[0;34m\u001B[0m\u001B[0;34m\u001B[0m\u001B[0m\n\u001B[1;32m     16\u001B[0m             \u001B[0;32mif\u001B[0m \u001B[0mdeltaE\u001B[0m \u001B[0;34m<\u001B[0m \u001B[0;36m0\u001B[0m \u001B[0;32mor\u001B[0m \u001B[0mrandom\u001B[0m\u001B[0;34m.\u001B[0m\u001B[0mrandom\u001B[0m\u001B[0;34m(\u001B[0m\u001B[0;34m)\u001B[0m \u001B[0;34m<\u001B[0m \u001B[0mmath\u001B[0m\u001B[0;34m.\u001B[0m\u001B[0mexp\u001B[0m\u001B[0;34m(\u001B[0m\u001B[0;34m-\u001B[0m\u001B[0mdeltaE\u001B[0m \u001B[0;34m/\u001B[0m \u001B[0mtemperate\u001B[0m\u001B[0;34m)\u001B[0m\u001B[0;34m:\u001B[0m\u001B[0;34m\u001B[0m\u001B[0;34m\u001B[0m\u001B[0m\n",
      "\u001B[0;32m<ipython-input-17-085466c2e9b9>\u001B[0m in \u001B[0;36menergy\u001B[0;34m(path, cities)\u001B[0m\n\u001B[1;32m      3\u001B[0m     \u001B[0mdist\u001B[0m \u001B[0;34m=\u001B[0m \u001B[0;36m0\u001B[0m\u001B[0;34m\u001B[0m\u001B[0;34m\u001B[0m\u001B[0m\n\u001B[1;32m      4\u001B[0m     \u001B[0;32mfor\u001B[0m \u001B[0mi\u001B[0m \u001B[0;32min\u001B[0m \u001B[0mrange\u001B[0m\u001B[0;34m(\u001B[0m\u001B[0mlen\u001B[0m\u001B[0;34m(\u001B[0m\u001B[0mpath\u001B[0m\u001B[0;34m)\u001B[0m\u001B[0;34m)\u001B[0m\u001B[0;34m:\u001B[0m\u001B[0;34m\u001B[0m\u001B[0;34m\u001B[0m\u001B[0m\n\u001B[0;32m----> 5\u001B[0;31m         \u001B[0mdist\u001B[0m \u001B[0;34m+=\u001B[0m \u001B[0mdistance\u001B[0m\u001B[0;34m(\u001B[0m\u001B[0mcities\u001B[0m\u001B[0;34m[\u001B[0m\u001B[0mpath\u001B[0m\u001B[0;34m[\u001B[0m\u001B[0mi\u001B[0m\u001B[0;34m]\u001B[0m\u001B[0;34m]\u001B[0m\u001B[0;34m,\u001B[0m \u001B[0mcities\u001B[0m\u001B[0;34m[\u001B[0m\u001B[0mpath\u001B[0m\u001B[0;34m[\u001B[0m\u001B[0;34m(\u001B[0m\u001B[0mi\u001B[0m \u001B[0;34m+\u001B[0m \u001B[0;36m1\u001B[0m\u001B[0;34m)\u001B[0m \u001B[0;34m%\u001B[0m \u001B[0mlen\u001B[0m\u001B[0;34m(\u001B[0m\u001B[0mpath\u001B[0m\u001B[0;34m)\u001B[0m\u001B[0;34m]\u001B[0m\u001B[0;34m]\u001B[0m\u001B[0;34m)\u001B[0m\u001B[0;34m\u001B[0m\u001B[0;34m\u001B[0m\u001B[0m\n\u001B[0m\u001B[1;32m      6\u001B[0m     \u001B[0;32mreturn\u001B[0m \u001B[0mdist\u001B[0m\u001B[0;34m\u001B[0m\u001B[0;34m\u001B[0m\u001B[0m\n",
      "\u001B[0;32m<ipython-input-11-d80260533123>\u001B[0m in \u001B[0;36mdistance\u001B[0;34m(city1, city2)\u001B[0m\n\u001B[1;32m      1\u001B[0m \u001B[0;31m#calculate the Euclidian distance\u001B[0m\u001B[0;34m\u001B[0m\u001B[0;34m\u001B[0m\u001B[0;34m\u001B[0m\u001B[0m\n\u001B[1;32m      2\u001B[0m \u001B[0;32mdef\u001B[0m \u001B[0mdistance\u001B[0m\u001B[0;34m(\u001B[0m\u001B[0mcity1\u001B[0m\u001B[0;34m,\u001B[0m \u001B[0mcity2\u001B[0m\u001B[0;34m)\u001B[0m\u001B[0;34m:\u001B[0m\u001B[0;34m\u001B[0m\u001B[0;34m\u001B[0m\u001B[0m\n\u001B[0;32m----> 3\u001B[0;31m     \u001B[0;32mreturn\u001B[0m \u001B[0mmath\u001B[0m\u001B[0;34m.\u001B[0m\u001B[0msqrt\u001B[0m\u001B[0;34m(\u001B[0m\u001B[0;34m(\u001B[0m\u001B[0mcity1\u001B[0m\u001B[0;34m[\u001B[0m\u001B[0;36m0\u001B[0m\u001B[0;34m]\u001B[0m \u001B[0;34m-\u001B[0m \u001B[0mcity2\u001B[0m\u001B[0;34m[\u001B[0m\u001B[0;36m0\u001B[0m\u001B[0;34m]\u001B[0m\u001B[0;34m)\u001B[0m \u001B[0;34m**\u001B[0m \u001B[0;36m2\u001B[0m \u001B[0;34m+\u001B[0m \u001B[0;34m(\u001B[0m\u001B[0mcity1\u001B[0m\u001B[0;34m[\u001B[0m\u001B[0;36m1\u001B[0m\u001B[0;34m]\u001B[0m \u001B[0;34m-\u001B[0m \u001B[0mcity2\u001B[0m\u001B[0;34m[\u001B[0m\u001B[0;36m1\u001B[0m\u001B[0;34m]\u001B[0m\u001B[0;34m)\u001B[0m \u001B[0;34m**\u001B[0m \u001B[0;36m2\u001B[0m\u001B[0;34m)\u001B[0m\u001B[0;34m\u001B[0m\u001B[0;34m\u001B[0m\u001B[0m\n\u001B[0m",
      "\u001B[0;31mKeyboardInterrupt\u001B[0m: "
     ]
    }
   ],
   "execution_count": 20
  },
  {
   "metadata": {},
   "cell_type": "code",
   "outputs": [],
   "execution_count": null,
   "source": "",
   "id": "f66c3d2730e0400d"
  }
 ],
 "metadata": {
  "kernelspec": {
   "display_name": "Python 3",
   "language": "python",
   "name": "python3"
  },
  "language_info": {
   "codemirror_mode": {
    "name": "ipython",
    "version": 2
   },
   "file_extension": ".py",
   "mimetype": "text/x-python",
   "name": "python",
   "nbconvert_exporter": "python",
   "pygments_lexer": "ipython2",
   "version": "2.7.6"
  }
 },
 "nbformat": 4,
 "nbformat_minor": 5
}
