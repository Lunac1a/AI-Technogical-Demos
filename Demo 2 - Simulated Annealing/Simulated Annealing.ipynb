{
 "cells": [
  {
   "metadata": {
    "collapsed": true,
    "ExecuteTime": {
     "end_time": "2025-08-23T11:19:56.900104Z",
     "start_time": "2025-08-23T11:19:56.898422Z"
    }
   },
   "cell_type": "markdown",
   "source": [
    "# Demo 2: Simulated Annealing in Travelling Salesman Problem (TSP)\n",
    "\n",
    "## Step 1: Import Libraries"
   ],
   "id": "30209d6b6d8aa68b"
  },
  {
   "metadata": {
    "ExecuteTime": {
     "end_time": "2025-08-24T10:13:37.601099Z",
     "start_time": "2025-08-24T10:13:37.597192Z"
    }
   },
   "cell_type": "code",
   "source": [
    "#Libraries: pandas, math, random\n",
    "import pandas as pd\n",
    "import math\n",
    "import random"
   ],
   "id": "2e2878487e8542ca",
   "outputs": [],
   "execution_count": 29
  },
  {
   "metadata": {
    "ExecuteTime": {
     "end_time": "2025-08-23T11:20:41.926789Z",
     "start_time": "2025-08-23T11:20:41.923290Z"
    }
   },
   "cell_type": "markdown",
   "source": [
    "## Step 2: Initialize Data\n",
    "\n",
    "Read the .csv file to get the x and y coordinate of each city"
   ],
   "id": "c05baa40130cb179"
  },
  {
   "metadata": {
    "ExecuteTime": {
     "end_time": "2025-08-24T10:13:37.617719Z",
     "start_time": "2025-08-24T10:13:37.609312Z"
    }
   },
   "cell_type": "code",
   "source": [
    "#read cities' coordinate\n",
    "df = pd.read_csv(\"./data/problemData.csv\")\n",
    "df.head()"
   ],
   "id": "1d6bc434a0dccc5a",
   "outputs": [
    {
     "data": {
      "text/plain": [
       "  LocationName  LocationX  LocationY\n",
       "0         Arad         91        492\n",
       "1    Bucharest        400        327\n",
       "2      Craiova        253        288\n",
       "3      Drobeta        165        299\n",
       "4       Eforie        562        293"
      ],
      "text/html": [
       "<div>\n",
       "<style scoped>\n",
       "    .dataframe tbody tr th:only-of-type {\n",
       "        vertical-align: middle;\n",
       "    }\n",
       "\n",
       "    .dataframe tbody tr th {\n",
       "        vertical-align: top;\n",
       "    }\n",
       "\n",
       "    .dataframe thead th {\n",
       "        text-align: right;\n",
       "    }\n",
       "</style>\n",
       "<table border=\"1\" class=\"dataframe\">\n",
       "  <thead>\n",
       "    <tr style=\"text-align: right;\">\n",
       "      <th></th>\n",
       "      <th>LocationName</th>\n",
       "      <th>LocationX</th>\n",
       "      <th>LocationY</th>\n",
       "    </tr>\n",
       "  </thead>\n",
       "  <tbody>\n",
       "    <tr>\n",
       "      <th>0</th>\n",
       "      <td>Arad</td>\n",
       "      <td>91</td>\n",
       "      <td>492</td>\n",
       "    </tr>\n",
       "    <tr>\n",
       "      <th>1</th>\n",
       "      <td>Bucharest</td>\n",
       "      <td>400</td>\n",
       "      <td>327</td>\n",
       "    </tr>\n",
       "    <tr>\n",
       "      <th>2</th>\n",
       "      <td>Craiova</td>\n",
       "      <td>253</td>\n",
       "      <td>288</td>\n",
       "    </tr>\n",
       "    <tr>\n",
       "      <th>3</th>\n",
       "      <td>Drobeta</td>\n",
       "      <td>165</td>\n",
       "      <td>299</td>\n",
       "    </tr>\n",
       "    <tr>\n",
       "      <th>4</th>\n",
       "      <td>Eforie</td>\n",
       "      <td>562</td>\n",
       "      <td>293</td>\n",
       "    </tr>\n",
       "  </tbody>\n",
       "</table>\n",
       "</div>"
      ]
     },
     "execution_count": 30,
     "metadata": {},
     "output_type": "execute_result"
    }
   ],
   "execution_count": 30
  },
  {
   "metadata": {},
   "cell_type": "markdown",
   "source": "Import the data into a dictionary, format is name:(x, y)",
   "id": "c2ec99e4d5a6c222"
  },
  {
   "metadata": {
    "ExecuteTime": {
     "end_time": "2025-08-24T10:13:37.671375Z",
     "start_time": "2025-08-24T10:13:37.665931Z"
    }
   },
   "cell_type": "code",
   "source": [
    "#create dictionary\n",
    "cities = {}\n",
    "#import data\n",
    "cityName = df[\"LocationName\"]   #city name\n",
    "locationX = df[\"LocationX\"]     #X coordinate\n",
    "locationY = df[\"LocationY\"]     #Y coordinate\n",
    "#zip the x and y coordinates into (x,y) format\n",
    "location = zip(locationX, locationY)\n",
    "#add to dictionary\n",
    "for name, coordinate in zip(cityName, location):\n",
    "    cities.update({name : coordinate})\n",
    "#show\n",
    "cities"
   ],
   "id": "edbc99f55e6a2a64",
   "outputs": [
    {
     "data": {
      "text/plain": [
       "{'Arad': (91, 492),\n",
       " 'Bucharest': (400, 327),\n",
       " 'Craiova': (253, 288),\n",
       " 'Drobeta': (165, 299),\n",
       " 'Eforie': (562, 293),\n",
       " 'Fagaras': (305, 449),\n",
       " 'Giurgiu': (375, 270),\n",
       " 'Hirsova': (534, 350),\n",
       " 'Iasi': (473, 506),\n",
       " 'Lugoj': (165, 379),\n",
       " 'Mehadia': (168, 339),\n",
       " 'Neamt': (406, 537),\n",
       " 'Oradea': (131, 571),\n",
       " 'Pitesti': (320, 368),\n",
       " 'Rimnicu': (233, 410),\n",
       " 'Sibiu': (207, 457),\n",
       " 'Timisoara': (94, 410),\n",
       " 'Urziceni': (456, 350),\n",
       " 'Vaslui': (509, 444),\n",
       " 'Zerind': (108, 531)}"
      ]
     },
     "execution_count": 31,
     "metadata": {},
     "output_type": "execute_result"
    }
   ],
   "execution_count": 31
  },
  {
   "metadata": {
    "ExecuteTime": {
     "end_time": "2025-08-23T11:34:31.705536Z",
     "start_time": "2025-08-23T11:34:31.702034Z"
    }
   },
   "cell_type": "markdown",
   "source": "## Step 3: Functions",
   "id": "2997e20921203b3e"
  },
  {
   "metadata": {},
   "cell_type": "markdown",
   "source": "In order to find the best way, we need to calculate the distance first",
   "id": "52c9a66133220201"
  },
  {
   "metadata": {
    "ExecuteTime": {
     "end_time": "2025-08-24T10:13:37.731201Z",
     "start_time": "2025-08-24T10:13:37.728733Z"
    }
   },
   "cell_type": "code",
   "source": [
    "def distance(city1, city2):\n",
    "    \"\"\"\n",
    "    calculate the Euclidian distance\n",
    "    :param city1: (x, y)\n",
    "    :param city2: (x, y)\n",
    "    :return: Euclidean distance, float\n",
    "    \"\"\"\n",
    "    return math.sqrt((city1[0] - city2[0]) ** 2 + (city1[1] - city2[1]) ** 2)"
   ],
   "id": "460a1df782291f3b",
   "outputs": [],
   "execution_count": 32
  },
  {
   "metadata": {},
   "cell_type": "markdown",
   "source": "With this function, we can calculate the total distance of a path (energy)",
   "id": "eadeaa86a94007c5"
  },
  {
   "metadata": {
    "ExecuteTime": {
     "end_time": "2025-08-24T10:13:37.740059Z",
     "start_time": "2025-08-24T10:13:37.737605Z"
    }
   },
   "cell_type": "code",
   "source": [
    "def energy(path, cities):\n",
    "    \"\"\"\n",
    "    calculate the total distance of a path\n",
    "    :param path: city visited order (list)\n",
    "    :param cities: dictionary of cities\n",
    "    :return: sum of distance, float\n",
    "    \"\"\"\n",
    "    dist = 0\n",
    "    for i in range(len(path)):\n",
    "        dist += distance(cities[path[i]], cities[path[(i + 1) % len(path)]])\n",
    "    return dist"
   ],
   "id": "3f3b356efcf7756b",
   "outputs": [],
   "execution_count": 33
  },
  {
   "metadata": {},
   "cell_type": "markdown",
   "source": "Generate some different solutions by exchanging two cities (neighbour)",
   "id": "122704b2f0950f98"
  },
  {
   "metadata": {
    "ExecuteTime": {
     "end_time": "2025-08-24T10:13:37.753386Z",
     "start_time": "2025-08-24T10:13:37.750698Z"
    }
   },
   "cell_type": "code",
   "source": [
    "def neighbour(path):\n",
    "    \"\"\"\n",
    "    generate a new path by swapping the positions of two cities\n",
    "    :param path: current path\n",
    "    :return: swaped path, list\n",
    "    \"\"\"\n",
    "    neighbours = []\n",
    "    for _ in range(5):\n",
    "        tempPath = path[:]\n",
    "        i, j = random.sample(range(len(path)), 2)               #pick two cities randomly\n",
    "        tempPath[i], tempPath[j] = tempPath[j], tempPath[i]     #swap picked cities\n",
    "        neighbours.append(tempPath)\n",
    "    return neighbours"
   ],
   "id": "761e7fb630203d26",
   "outputs": [],
   "execution_count": 34
  },
  {
   "metadata": {},
   "cell_type": "markdown",
   "source": "Define the schedule function",
   "id": "7a198f82f11fb6bd"
  },
  {
   "metadata": {
    "ExecuteTime": {
     "end_time": "2025-08-24T10:13:37.758327Z",
     "start_time": "2025-08-24T10:13:37.756345Z"
    }
   },
   "cell_type": "code",
   "source": [
    "def schedule(k=20, lam=0.005, limit=10000):\n",
    "    \"\"\"\n",
    "    temperature drop function for exponential annealing\n",
    "    T(t) = k * exp(-lam * t), when t > limit, temperature is 0\n",
    "    :param k: default temperature\n",
    "    :param lam: decrease rate\n",
    "    :param limit: maximum iterations\n",
    "    :return: a function T(t) that takes an input t and returns the temperature\n",
    "    \"\"\"\n",
    "    return lambda t: (k * math.exp(-lam * t) if t < limit else 0)"
   ],
   "id": "ac974fc07d5b627a",
   "outputs": [],
   "execution_count": 35
  },
  {
   "metadata": {},
   "cell_type": "markdown",
   "source": "Core of simulated annealing",
   "id": "cf5938961faef0fc"
  },
  {
   "metadata": {
    "ExecuteTime": {
     "end_time": "2025-08-24T10:13:37.765071Z",
     "start_time": "2025-08-24T10:13:37.760923Z"
    }
   },
   "cell_type": "code",
   "source": [
    "def simulatedAnnealing(cities, startCity = \"Arad\", stopTemp = 0.0001, maxIter = 1000000):\n",
    "    \"\"\"\n",
    "    simulated annealing algorithm for TSP\n",
    "    :param cities: dictionary of city coordinates\n",
    "    :param startCity: starting city (the first position on the path)\n",
    "    :param stopTemp: minimum stopping temperature\n",
    "    :param maxIter: maximum number of iterations\n",
    "    :return: best path (list), total distance (float)\n",
    "    \"\"\"\n",
    "    #initial path\n",
    "    currentPath = list(cities.keys())\n",
    "    #set the start city\n",
    "    if startCity and startCity in currentPath:\n",
    "        #if the start city is set, keep the start city front\n",
    "        currentPath.remove(startCity)\n",
    "        random.shuffle(currentPath)\n",
    "        currentPath = [startCity] + currentPath\n",
    "    else:\n",
    "        #else, shuffle all the list\n",
    "        currentPath = currentPath[:]\n",
    "        random.shuffle(currentPath)\n",
    "    #calculate the length of the initial path\n",
    "    currentEnergy = energy(currentPath, cities)\n",
    "    #initial the best solution\n",
    "    bestPath = currentPath[:]\n",
    "    bestEnergy = currentEnergy\n",
    "    #initial the temperature function\n",
    "    T_func = schedule()\n",
    "    #iteration begin\n",
    "    for t in range(maxIter):\n",
    "        T = T_func(t)   #calculate the current temperature\n",
    "        if T <= stopTemp:   #stop when reach the limit temperature\n",
    "            break\n",
    "        #generate a list of neighbours\n",
    "        neighbours = neighbour(currentPath)\n",
    "        #pick up a neighbour randomly, then calculate the energy\n",
    "        newPath = random.choice(neighbours)\n",
    "        newEnergy = energy(newPath, cities)\n",
    "        #calculate energy difference\n",
    "        deltaE = newEnergy - currentEnergy\n",
    "        #better solutions are accepted directly, worse solutions are accepted according to probability\n",
    "        if deltaE < 0 or random.random() < math.exp(-deltaE / T):\n",
    "            currentPath, currentEnergy = newPath, newEnergy #update the current data\n",
    "            if newEnergy < bestEnergy:  #compare to current best solution\n",
    "                bestPath, bestEnergy = newPath[:], newEnergy #accept the best solution\n",
    "    return bestPath, bestEnergy"
   ],
   "id": "d339ae5c25410197",
   "outputs": [],
   "execution_count": 36
  },
  {
   "metadata": {},
   "cell_type": "markdown",
   "source": "## Step 4: Run Simulated Annealing",
   "id": "b530c8b8aa8bb6c"
  },
  {
   "metadata": {
    "ExecuteTime": {
     "end_time": "2025-08-24T10:13:37.835994Z",
     "start_time": "2025-08-24T10:13:37.768895Z"
    }
   },
   "cell_type": "code",
   "source": [
    "#output method\n",
    "bestPath, bestEnergy = simulatedAnnealing(cities)\n",
    "print(\"Best path: \", bestPath)\n",
    "print(\"Best energy: \", bestEnergy)"
   ],
   "id": "398b01c63792add8",
   "outputs": [
    {
     "name": "stdout",
     "output_type": "stream",
     "text": [
      "Best path:  ['Oradea', 'Hirsova', 'Eforie', 'Urziceni', 'Bucharest', 'Pitesti', 'Rimnicu', 'Mehadia', 'Lugoj', 'Sibiu', 'Fagaras', 'Neamt', 'Iasi', 'Vaslui', 'Giurgiu', 'Craiova', 'Drobeta', 'Timisoara', 'Arad', 'Zerind']\n",
      "Best energy:  2227.412618526964\n"
     ]
    }
   ],
   "execution_count": 37
  },
  {
   "metadata": {},
   "cell_type": "markdown",
   "source": "Notice: Because this algorithm is a random process, each execution will have different output.",
   "id": "97233301679a97eb"
  }
 ],
 "metadata": {
  "kernelspec": {
   "display_name": "Python 3",
   "language": "python",
   "name": "python3"
  },
  "language_info": {
   "codemirror_mode": {
    "name": "ipython",
    "version": 2
   },
   "file_extension": ".py",
   "mimetype": "text/x-python",
   "name": "python",
   "nbconvert_exporter": "python",
   "pygments_lexer": "ipython2",
   "version": "2.7.6"
  }
 },
 "nbformat": 4,
 "nbformat_minor": 5
}
