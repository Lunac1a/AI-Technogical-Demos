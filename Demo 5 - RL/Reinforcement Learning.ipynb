{
 "cells": [
  {
   "metadata": {},
   "cell_type": "markdown",
   "source": "# Reinforcement Learning in Gridworld Problem",
   "id": "ed0814ba79bd7187"
  },
  {
   "metadata": {},
   "cell_type": "markdown",
   "source": [
    "In this demo, we will use **Q-learning**, a classic Reinforcement Learning (RL) algorithm,\n",
    "to solve a simple **Gridworld** problem.\n",
    "\n",
    "The agent starts from the bottom-left corner and must find the optimal path\n",
    "to reach the **goal state (+1 reward)** while avoiding the **trap (-1 reward)**."
   ],
   "id": "917789b4570edb2d"
  },
  {
   "metadata": {},
   "cell_type": "markdown",
   "source": "## Step 1: Initialize the Gridworld Environment",
   "id": "cf7149a815998473"
  },
  {
   "metadata": {},
   "cell_type": "markdown",
   "source": "We can see the image of grid",
   "id": "d7f4b99d8856438e"
  },
  {
   "metadata": {
    "ExecuteTime": {
     "end_time": "2025-09-13T13:30:24.060610Z",
     "start_time": "2025-09-13T13:30:23.997920Z"
    }
   },
   "cell_type": "code",
   "source": [
    "import matplotlib.pyplot as plt\n",
    "img = plt.imread(\"./image/grid.png\")\n",
    "plt.imshow(img)"
   ],
   "id": "6767671ceb858e2f",
   "outputs": [
    {
     "data": {
      "text/plain": [
       "<matplotlib.image.AxesImage at 0x12a869f10>"
      ]
     },
     "execution_count": 82,
     "metadata": {},
     "output_type": "execute_result"
    },
    {
     "data": {
      "text/plain": [
       "<Figure size 640x480 with 1 Axes>"
      ],
      "image/png": "[encoded data removed]"
     },
     "metadata": {},
     "output_type": "display_data",
     "jetTransient": {
      "display_id": null
     }
    }
   ],
   "execution_count": 82
  },
  {
   "metadata": {},
   "cell_type": "markdown",
   "source": [
    "The environment is represented as a grid:\n",
    "\n",
    "- `0` : normal cell with a small step penalty (e.g., -0.04)\n",
    "- `None` : wall (cannot pass through)\n",
    "- `+1` : terminal goal state (positive reward)\n",
    "- `-1` : terminal trap state (negative reward)"
   ],
   "id": "13de43c1e6322489"
  },
  {
   "cell_type": "code",
   "id": "initial_id",
   "metadata": {
    "collapsed": true,
    "ExecuteTime": {
     "end_time": "2025-09-13T13:30:24.067116Z",
     "start_time": "2025-09-13T13:30:24.065155Z"
    }
   },
   "source": [
    "maps = [\n",
    "    [0,    0,    0,    0,   +1],\n",
    "    [0,  None,   0,    0,   -1],\n",
    "    [0,    0,    0,    0,    0],\n",
    "    [0,    0,    0,    0,    0]\n",
    "]"
   ],
   "outputs": [],
   "execution_count": 83
  },
  {
   "metadata": {},
   "cell_type": "markdown",
   "source": [
    "We define a Python class `GridWorld` with three key functions:\n",
    "- `reset()` : resets the agent to the starting position\n",
    "- `step(action)` : takes an action (up, down, left, right) and returns `(next_state, reward, done)`\n",
    "- `render()` : prints the grid with the agent’s path for visualization"
   ],
   "id": "d972ccfebce9cc4e"
  },
  {
   "metadata": {
    "ExecuteTime": {
     "end_time": "2025-09-13T13:30:24.079513Z",
     "start_time": "2025-09-13T13:30:24.075755Z"
    }
   },
   "cell_type": "code",
   "source": [
    "import numpy as np\n",
    "\n",
    "class GridWorld:\n",
    "    def __init__(self, grid):\n",
    "        \"\"\"\n",
    "        Example cell values:\n",
    "            0 -> normal cell\n",
    "            None -> wall\n",
    "            +1 -> goal\n",
    "            -1 -> trap\n",
    "        :param grid: 2D list (rows × cols), representing the environment.\n",
    "        \"\"\"\n",
    "        self.grid = grid\n",
    "        self.rowsLength = len(grid)\n",
    "        self.colsLength = len(grid[0])\n",
    "\n",
    "        self.start = (3, 0)\n",
    "        self.state = self.start\n",
    "\n",
    "    def reset(self):\n",
    "        \"\"\"\n",
    "        Reset the agent to the start position.\n",
    "        :return: the initial state.\n",
    "        \"\"\"\n",
    "        self.state = self.start\n",
    "        return self.state\n",
    "\n",
    "    def step(self, action):\n",
    "        \"\"\"\n",
    "        Take an action and move the agent.\n",
    "        :param action: 0 = up, 1 = down, 2 = left, 3 = right\n",
    "        :return:\n",
    "            next_state : (row, col)\n",
    "            reward : float\n",
    "            done : bool (whether the episode ends)\n",
    "        \"\"\"\n",
    "        # Initial row and column\n",
    "        row, col = self.state\n",
    "\n",
    "        # Action mapping\n",
    "        if   action == 0: row -= 1  # up\n",
    "        elif action == 1: row += 1  # down\n",
    "        elif action == 2: col -= 1  # left\n",
    "        elif action == 3: col += 1  # right\n",
    "\n",
    "        # Boundary and Wall check\n",
    "        if row < 0 or row >= self.rowsLength or col < 0 or col >= self.colsLength or self.grid[row][col] is None:\n",
    "            row, col = self.state   # Stay\n",
    "        # Update state\n",
    "        self.state = row, col\n",
    "\n",
    "        # Reward\n",
    "        if self.grid[row][col] == 0:\n",
    "            reward = -0.05  # Common blocks\n",
    "        elif self.grid[row][col] == 1:\n",
    "            reward = 1      # Goal\n",
    "        elif self.grid[row][col] == -1:\n",
    "            reward = -1     # Trap\n",
    "        else:\n",
    "            reward = 0      # Default\n",
    "\n",
    "        # Endpoint\n",
    "        end = self.grid[row][col] in [1, -1]\n",
    "\n",
    "        return self.state, reward, end\n",
    "\n",
    "    def render(self, path = []):\n",
    "        \"\"\"\n",
    "        Print the grid with the path taken.\n",
    "        :param path: The solution path\n",
    "        \"\"\"\n",
    "        # Draw map\n",
    "        solution = [\n",
    "            [\n",
    "                '.' if ch == 0 else\n",
    "                '#' if ch is None else\n",
    "                str(ch)\n",
    "                for ch in row\n",
    "            ] for row in self.grid\n",
    "        ]\n",
    "        # Mark visited\n",
    "        for r, c in path:\n",
    "            solution[r][c] = '*'\n",
    "        print(\"\\n\".join(\"   \".join(row) for row in solution))"
   ],
   "id": "1635ce2c3e6ca200",
   "outputs": [],
   "execution_count": 84
  },
  {
   "metadata": {},
   "cell_type": "markdown",
   "source": "Now we can initialize the grid",
   "id": "4bf6e72300219575"
  },
  {
   "metadata": {
    "ExecuteTime": {
     "end_time": "2025-09-13T13:30:24.083906Z",
     "start_time": "2025-09-13T13:30:24.082624Z"
    }
   },
   "cell_type": "code",
   "source": "grid = GridWorld(maps)",
   "id": "e438103c192fb70d",
   "outputs": [],
   "execution_count": 85
  },
  {
   "metadata": {},
   "cell_type": "markdown",
   "source": [
    "## Step 2: Implement Q-learning\n",
    "\n",
    "Q-learning update rule:\n",
    "\n",
    "$$\n",
    "Q(s, a) \\leftarrow Q(s, a) + \\alpha \\Big[ r + \\gamma \\max_{a'} Q(s', a') - Q(s, a) \\Big]\n",
    "$$\n",
    "\n",
    "Where:\n",
    "- ($ \\alpha $) : learning rate\n",
    "- ($ \\gamma $) : discount factor\n",
    "- ($ \\epsilon $) : exploration rate (ε-greedy policy)"
   ],
   "id": "726805803857c2e0"
  },
  {
   "metadata": {
    "ExecuteTime": {
     "end_time": "2025-09-13T13:30:24.093339Z",
     "start_time": "2025-09-13T13:30:24.086437Z"
    }
   },
   "cell_type": "code",
   "source": [
    "import random\n",
    "\n",
    "# Initialize Q-table\n",
    "actions = [0, 1, 2, 3]\n",
    "Q = {}\n",
    "alpha, gamma, epsilon = 0.1, 0.9, 0.1\n",
    "episodes = 500\n",
    "\n",
    "# Training Loop\n",
    "for ep in range(episodes):\n",
    "    state = grid.reset()\n",
    "    end = False\n",
    "    while not end:\n",
    "        # Policy\n",
    "        if random.random() < epsilon:\n",
    "            action = random.choice(actions)\n",
    "        else:\n",
    "            action = max(actions, key=lambda a: Q.get((state, a), 0))\n",
    "\n",
    "        # Take action\n",
    "        next_state, reward, end = grid.step(action)\n",
    "\n",
    "        # Q-learning update\n",
    "        old_q = Q.get((state, action), 0)\n",
    "        next_max = max([Q.get((next_state, a), 0) for a in actions])\n",
    "        Q[(state, action)] = old_q + alpha * (reward + gamma * next_max - old_q)\n",
    "\n",
    "        state = next_state"
   ],
   "id": "7fbbdbb259e1d154",
   "outputs": [],
   "execution_count": 86
  },
  {
   "metadata": {},
   "cell_type": "markdown",
   "source": [
    "## Step 3: Extract the Optimal Path\n",
    "\n",
    "After training, we use the learned Q-table to follow the **greedy policy**\n",
    "(i.e., always take the action with the highest Q-value)."
   ],
   "id": "a4d140577300e72b"
  },
  {
   "metadata": {
    "ExecuteTime": {
     "end_time": "2025-09-13T13:30:24.099166Z",
     "start_time": "2025-09-13T13:30:24.096782Z"
    }
   },
   "cell_type": "code",
   "source": [
    "# Extract optimal path\n",
    "state = grid.reset()\n",
    "path = [state]\n",
    "done = False\n",
    "while not done:\n",
    "    action = max(actions, key=lambda a: Q.get((state, a), 0))\n",
    "    state, reward, done = grid.step(action)\n",
    "    path.append(state)\n",
    "\n",
    "# Render the grid with optimal path\n",
    "print(\"Solution:\")\n",
    "grid.render(path)"
   ],
   "id": "30fd4063d8b445c0",
   "outputs": [
    {
     "name": "stdout",
     "output_type": "stream",
     "text": [
      "Solution:\n",
      ".   .   .   *   *\n",
      ".   #   .   *   -1\n",
      ".   *   *   *   .\n",
      "*   *   .   .   .\n"
     ]
    }
   ],
   "execution_count": 87
  },
  {
   "metadata": {},
   "cell_type": "markdown",
   "source": [
    "## Step 4: Conclusion\n",
    "\n",
    "- The agent successfully learned to navigate the Gridworld using **Q-learning**.\n",
    "- It discovered the shortest safe path to the **goal (+1)** while avoiding the **trap (-1)**.\n",
    "- Key RL concepts:\n",
    "  - Exploration vs. Exploitation (ε-greedy)\n",
    "  - Temporal Difference learning (Q-learning update rule)\n",
    "  - Value-based policy extraction from Q-table\n",
    "\n",
    "This is a minimal example. In larger environments, we can extend this idea using **Deep Q-Learning (DQN)** with neural networks."
   ],
   "id": "fbb642f5b0f743e"
  }
 ],
 "metadata": {
  "kernelspec": {
   "display_name": "Python 3",
   "language": "python",
   "name": "python3"
  },
  "language_info": {
   "codemirror_mode": {
    "name": "ipython",
    "version": 2
   },
   "file_extension": ".py",
   "mimetype": "text/x-python",
   "name": "python",
   "nbconvert_exporter": "python",
   "pygments_lexer": "ipython2",
   "version": "2.7.6"
  }
 },
 "nbformat": 4,
 "nbformat_minor": 5
}
